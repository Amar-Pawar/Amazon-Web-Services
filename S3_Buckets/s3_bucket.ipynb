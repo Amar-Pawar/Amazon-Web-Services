{
 "cells": [
  {
   "cell_type": "markdown",
   "source": [
    "\n",
    "@Author: Amar Pawar\n",
    "\n",
    "@Date: 2021-09-01\n",
    "\n",
    "@Last Modified by: Amar Pawar\n",
    "\n",
    "@Last Modified time: 2021-09-01\n",
    "\n",
    "@Title : AWS S3 Buckets create, upload files, delete, read, dowload file operations"
   ],
   "metadata": {}
  },
  {
   "cell_type": "code",
   "execution_count": 23,
   "source": [
    "import boto3\n",
    "import pandas as pd\n",
    "from logging_handler import logger\n",
    "import os\n",
    "from dotenv import load_dotenv\n",
    "load_dotenv('.env')"
   ],
   "outputs": [
    {
     "output_type": "execute_result",
     "data": {
      "text/plain": [
       "True"
      ]
     },
     "metadata": {},
     "execution_count": 23
    }
   ],
   "metadata": {}
  },
  {
   "cell_type": "code",
   "execution_count": 24,
   "source": [
    "s3 = boto3.client('s3')"
   ],
   "outputs": [],
   "metadata": {}
  },
  {
   "cell_type": "code",
   "execution_count": 25,
   "source": [
    "s3 = boto3.resource(\n",
    "    service_name='s3',\n",
    "    region_name='ap-south-1',\n",
    "    aws_access_key_id=os.getenv(\"ACCESS_KEY\"),\n",
    "    aws_secret_access_key=os.getenv(\"ACCESS_SECRET_KEY\")\n",
    ")"
   ],
   "outputs": [],
   "metadata": {}
  },
  {
   "cell_type": "code",
   "execution_count": 26,
   "source": [
    "for bucket in s3.buckets.all():\n",
    "    logger.info(bucket.name)"
   ],
   "outputs": [],
   "metadata": {}
  },
  {
   "cell_type": "code",
   "execution_count": 27,
   "source": [
    "df1 = pd.DataFrame({'x': [1, 2, 3], 'y': ['a', 'b', 'c']})\n",
    "df2 = pd.DataFrame({'x': [10, 20, 30], 'y': ['aa', 'bb', 'cc']})\n",
    "\n",
    "# Save to csv\n",
    "df1.to_csv('numbers.csv')\n",
    "df2.to_csv('numbers2.csv')"
   ],
   "outputs": [],
   "metadata": {}
  },
  {
   "cell_type": "markdown",
   "source": [
    "# Upload files to S3 bucket"
   ],
   "metadata": {}
  },
  {
   "cell_type": "code",
   "execution_count": 28,
   "source": [
    "s3.Bucket('amartest1').upload_file(Filename='numbers.csv', Key='numbers.csv')\n",
    "s3.Bucket('amartest1').upload_file(Filename='numbers2.csv', Key='numbers2.csv')"
   ],
   "outputs": [],
   "metadata": {}
  },
  {
   "cell_type": "code",
   "execution_count": 29,
   "source": [
    "for obj in s3.Bucket('amartest1').objects.all():\n",
    "    logger.info(obj)"
   ],
   "outputs": [],
   "metadata": {}
  },
  {
   "cell_type": "markdown",
   "source": [
    "# Read csv file directly into python"
   ],
   "metadata": {}
  },
  {
   "cell_type": "code",
   "execution_count": 30,
   "source": [
    "obj = s3.Bucket('amartest1').Object('numbers.csv').get()\n",
    "numbers = pd.read_csv(obj['Body'], index_col=0)"
   ],
   "outputs": [],
   "metadata": {}
  },
  {
   "cell_type": "code",
   "execution_count": 31,
   "source": [
    "obj = s3.Bucket('amartest1').Object('numbers2.csv').get()\n",
    "numbers = pd.read_csv(obj['Body'], index_col=0)"
   ],
   "outputs": [],
   "metadata": {}
  },
  {
   "cell_type": "code",
   "execution_count": 32,
   "source": [
    "numbers.head()"
   ],
   "outputs": [
    {
     "output_type": "execute_result",
     "data": {
      "text/plain": [
       "    x   y\n",
       "0  10  aa\n",
       "1  20  bb\n",
       "2  30  cc"
      ],
      "text/html": [
       "<div>\n",
       "<style scoped>\n",
       "    .dataframe tbody tr th:only-of-type {\n",
       "        vertical-align: middle;\n",
       "    }\n",
       "\n",
       "    .dataframe tbody tr th {\n",
       "        vertical-align: top;\n",
       "    }\n",
       "\n",
       "    .dataframe thead th {\n",
       "        text-align: right;\n",
       "    }\n",
       "</style>\n",
       "<table border=\"1\" class=\"dataframe\">\n",
       "  <thead>\n",
       "    <tr style=\"text-align: right;\">\n",
       "      <th></th>\n",
       "      <th>x</th>\n",
       "      <th>y</th>\n",
       "    </tr>\n",
       "  </thead>\n",
       "  <tbody>\n",
       "    <tr>\n",
       "      <th>0</th>\n",
       "      <td>10</td>\n",
       "      <td>aa</td>\n",
       "    </tr>\n",
       "    <tr>\n",
       "      <th>1</th>\n",
       "      <td>20</td>\n",
       "      <td>bb</td>\n",
       "    </tr>\n",
       "    <tr>\n",
       "      <th>2</th>\n",
       "      <td>30</td>\n",
       "      <td>cc</td>\n",
       "    </tr>\n",
       "  </tbody>\n",
       "</table>\n",
       "</div>"
      ]
     },
     "metadata": {},
     "execution_count": 32
    }
   ],
   "metadata": {}
  },
  {
   "cell_type": "markdown",
   "source": [
    "# Downloading File"
   ],
   "metadata": {}
  },
  {
   "cell_type": "code",
   "execution_count": 33,
   "source": [
    "s3.Bucket('amartest1').download_file(Key='numbers.csv', Filename='d_numbers.csv')\n",
    "pd.read_csv('d_numbers.csv', index_col=0)"
   ],
   "outputs": [
    {
     "output_type": "execute_result",
     "data": {
      "text/plain": [
       "   x  y\n",
       "0  1  a\n",
       "1  2  b\n",
       "2  3  c"
      ],
      "text/html": [
       "<div>\n",
       "<style scoped>\n",
       "    .dataframe tbody tr th:only-of-type {\n",
       "        vertical-align: middle;\n",
       "    }\n",
       "\n",
       "    .dataframe tbody tr th {\n",
       "        vertical-align: top;\n",
       "    }\n",
       "\n",
       "    .dataframe thead th {\n",
       "        text-align: right;\n",
       "    }\n",
       "</style>\n",
       "<table border=\"1\" class=\"dataframe\">\n",
       "  <thead>\n",
       "    <tr style=\"text-align: right;\">\n",
       "      <th></th>\n",
       "      <th>x</th>\n",
       "      <th>y</th>\n",
       "    </tr>\n",
       "  </thead>\n",
       "  <tbody>\n",
       "    <tr>\n",
       "      <th>0</th>\n",
       "      <td>1</td>\n",
       "      <td>a</td>\n",
       "    </tr>\n",
       "    <tr>\n",
       "      <th>1</th>\n",
       "      <td>2</td>\n",
       "      <td>b</td>\n",
       "    </tr>\n",
       "    <tr>\n",
       "      <th>2</th>\n",
       "      <td>3</td>\n",
       "      <td>c</td>\n",
       "    </tr>\n",
       "  </tbody>\n",
       "</table>\n",
       "</div>"
      ]
     },
     "metadata": {},
     "execution_count": 33
    }
   ],
   "metadata": {}
  },
  {
   "cell_type": "markdown",
   "source": [
    "# Deleting objects from bucket"
   ],
   "metadata": {}
  },
  {
   "cell_type": "code",
   "execution_count": 34,
   "source": [
    "bucket = s3.Bucket('amartest1')\n",
    "bucket.objects.all().delete()"
   ],
   "outputs": [
    {
     "output_type": "execute_result",
     "data": {
      "text/plain": [
       "[{'ResponseMetadata': {'RequestId': 'FB5T4Q9ZT1N82SNT',\n",
       "   'HostId': 'l7GrJBNfI+hUyuR1LrMOZvLKNZYE/vSXe+oiI0w5NEYKHLWXJnyCFn527odHO7YWc0psp57G4WY=',\n",
       "   'HTTPStatusCode': 200,\n",
       "   'HTTPHeaders': {'x-amz-id-2': 'l7GrJBNfI+hUyuR1LrMOZvLKNZYE/vSXe+oiI0w5NEYKHLWXJnyCFn527odHO7YWc0psp57G4WY=',\n",
       "    'x-amz-request-id': 'FB5T4Q9ZT1N82SNT',\n",
       "    'date': 'Wed, 01 Sep 2021 11:16:21 GMT',\n",
       "    'content-type': 'application/xml',\n",
       "    'transfer-encoding': 'chunked',\n",
       "    'server': 'AmazonS3',\n",
       "    'connection': 'close'},\n",
       "   'RetryAttempts': 0},\n",
       "  'Deleted': [{'Key': 'numbers.csv',\n",
       "    'DeleteMarker': True,\n",
       "    'DeleteMarkerVersionId': '9yYlrN1UhiSrAHyR9pKpE2S319qHWb8h'},\n",
       "   {'Key': 'numbers2.csv',\n",
       "    'DeleteMarker': True,\n",
       "    'DeleteMarkerVersionId': 'mSnfpdSlISK_NCL2YqwoWNORaSeZdq5F'}]}]"
      ]
     },
     "metadata": {},
     "execution_count": 34
    }
   ],
   "metadata": {}
  },
  {
   "cell_type": "markdown",
   "source": [
    "# Deleting object from versioned bucket"
   ],
   "metadata": {}
  },
  {
   "cell_type": "code",
   "execution_count": 35,
   "source": [
    "bucket = s3.Bucket('amartest1')\n",
    "bucket.object_versions.all().delete()"
   ],
   "outputs": [
    {
     "output_type": "execute_result",
     "data": {
      "text/plain": [
       "[{'ResponseMetadata': {'RequestId': '0A0YXA7W7PHHAZXX',\n",
       "   'HostId': 'gw39tXb2Z0ArmvXhjl21NvvNksJw+bcIcaimfLE+tzEGiFL02DxLj7aFqu2/d83fPYxy8zMMonI=',\n",
       "   'HTTPStatusCode': 200,\n",
       "   'HTTPHeaders': {'x-amz-id-2': 'gw39tXb2Z0ArmvXhjl21NvvNksJw+bcIcaimfLE+tzEGiFL02DxLj7aFqu2/d83fPYxy8zMMonI=',\n",
       "    'x-amz-request-id': '0A0YXA7W7PHHAZXX',\n",
       "    'date': 'Wed, 01 Sep 2021 11:16:43 GMT',\n",
       "    'content-type': 'application/xml',\n",
       "    'transfer-encoding': 'chunked',\n",
       "    'server': 'AmazonS3',\n",
       "    'connection': 'close'},\n",
       "   'RetryAttempts': 0},\n",
       "  'Deleted': [{'Key': 'numbers.csv',\n",
       "    'VersionId': '9yYlrN1UhiSrAHyR9pKpE2S319qHWb8h',\n",
       "    'DeleteMarker': True,\n",
       "    'DeleteMarkerVersionId': '9yYlrN1UhiSrAHyR9pKpE2S319qHWb8h'},\n",
       "   {'Key': 'numbers.csv', 'VersionId': 'DzD8609mfdPa_2CsfISaEgvEWtA4t4t.'},\n",
       "   {'Key': 'numbers2.csv', 'VersionId': '9FLlW5rgg.rJnGftrMGotUF7soI1grhk'},\n",
       "   {'Key': 'numbers2.csv',\n",
       "    'VersionId': 'mSnfpdSlISK_NCL2YqwoWNORaSeZdq5F',\n",
       "    'DeleteMarker': True,\n",
       "    'DeleteMarkerVersionId': 'mSnfpdSlISK_NCL2YqwoWNORaSeZdq5F'}]}]"
      ]
     },
     "metadata": {},
     "execution_count": 35
    }
   ],
   "metadata": {}
  },
  {
   "cell_type": "code",
   "execution_count": 36,
   "source": [
    "bucket = s3.Bucket('amartest1')\n",
    "bucket.delete()"
   ],
   "outputs": [
    {
     "output_type": "execute_result",
     "data": {
      "text/plain": [
       "{'ResponseMetadata': {'RequestId': '3DCDXBYY35E76Q7H',\n",
       "  'HostId': 'fAvzqOoxYL6CgtnRkMVgL/pw6pOpb1AxYNdTDLDUxMVapSr9xRrs5h5JkZlpW7K0pTdhOk7HhR8=',\n",
       "  'HTTPStatusCode': 204,\n",
       "  'HTTPHeaders': {'x-amz-id-2': 'fAvzqOoxYL6CgtnRkMVgL/pw6pOpb1AxYNdTDLDUxMVapSr9xRrs5h5JkZlpW7K0pTdhOk7HhR8=',\n",
       "   'x-amz-request-id': '3DCDXBYY35E76Q7H',\n",
       "   'date': 'Wed, 01 Sep 2021 11:16:54 GMT',\n",
       "   'server': 'AmazonS3'},\n",
       "  'RetryAttempts': 0}}"
      ]
     },
     "metadata": {},
     "execution_count": 36
    }
   ],
   "metadata": {}
  },
  {
   "cell_type": "markdown",
   "source": [
    "# Creating a bucket"
   ],
   "metadata": {}
  },
  {
   "cell_type": "code",
   "execution_count": 37,
   "source": [
    "bucket = s3.create_bucket(Bucket='amartest1',CreateBucketConfiguration={'LocationConstraint':'ap-south-1'})"
   ],
   "outputs": [],
   "metadata": {}
  },
  {
   "cell_type": "code",
   "execution_count": 38,
   "source": [
    "for bucket in s3.buckets.all():\n",
    "    logger.info(bucket.name)"
   ],
   "outputs": [],
   "metadata": {}
  },
  {
   "cell_type": "code",
   "execution_count": null,
   "source": [],
   "outputs": [],
   "metadata": {}
  }
 ],
 "metadata": {
  "orig_nbformat": 4,
  "language_info": {
   "name": "python",
   "version": "3.8.10",
   "mimetype": "text/x-python",
   "codemirror_mode": {
    "name": "ipython",
    "version": 3
   },
   "pygments_lexer": "ipython3",
   "nbconvert_exporter": "python",
   "file_extension": ".py"
  },
  "kernelspec": {
   "name": "python3",
   "display_name": "Python 3.8.10 64-bit"
  },
  "interpreter": {
   "hash": "916dbcbb3f70747c44a77c7bcd40155683ae19c65e1c03b4aa3499c5328201f1"
  }
 },
 "nbformat": 4,
 "nbformat_minor": 2
}